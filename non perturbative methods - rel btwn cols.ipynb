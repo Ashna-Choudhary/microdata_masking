{
 "cells": [
  {
   "cell_type": "code",
   "execution_count": 21,
   "metadata": {},
   "outputs": [
    {
     "name": "stdout",
     "output_type": "stream",
     "text": [
      "      Segment  Country    Product Discount Band  Units Sold  \\\n",
      "0  Government   Canada  Carretera          None      1618.5   \n",
      "1  Government  Germany  Carretera          None      1321.0   \n",
      "2   Midmarket   France  Carretera          None      2178.0   \n",
      "3   Midmarket  Germany  Carretera          None       888.0   \n",
      "4   Midmarket   Mexico  Carretera          None      2470.0   \n",
      "\n",
      "   Manufacturing Price  Sale Price  Gross Sales  Discounts    Sales     COGS  \\\n",
      "0                    3          20      32370.0        0.0  32370.0  16185.0   \n",
      "1                    3          20      26420.0        0.0  26420.0  13210.0   \n",
      "2                    3          15      32670.0        0.0  32670.0  21780.0   \n",
      "3                    3          15      13320.0        0.0  13320.0   8880.0   \n",
      "4                    3          15      37050.0        0.0  37050.0  24700.0   \n",
      "\n",
      "    Profit       Date  Month Number Month Name  Year  \n",
      "0  16185.0 2014-01-01             1    January  2014  \n",
      "1  13210.0 2014-01-01             1    January  2014  \n",
      "2  10890.0 2014-06-01             6       June  2014  \n",
      "3   4440.0 2014-06-01             6       June  2014  \n",
      "4  12350.0 2014-06-01             6       June  2014  \n"
     ]
    }
   ],
   "source": [
    "import pandas as pd\n",
    " \n",
    "# read by default 1st sheet of an excel file\n",
    "df = pd.read_excel('C:\\\\Users\\\\ashna\\\\Downloads\\\\Financial Sample.xlsx')\n",
    " \n",
    "print(df.head())"
   ]
  },
  {
   "cell_type": "code",
   "execution_count": 22,
   "metadata": {},
   "outputs": [
    {
     "name": "stdout",
     "output_type": "stream",
     "text": [
      "Chi-square statistic: 1.5490875905924106\n",
      "P-value: 0.9999999893873489\n"
     ]
    }
   ],
   "source": [
    "from scipy.stats import chi2_contingency\n",
    "\n",
    "# create a contingency table of the two columns\n",
    "contingency_table = pd.crosstab(df['Country'], df['Product'])\n",
    "\n",
    "# perform chi-square test of independence\n",
    "chi2, p, dof, expected = chi2_contingency(contingency_table)\n",
    "\n",
    "# print results\n",
    "print(f\"Chi-square statistic: {chi2}\")\n",
    "print(f\"P-value: {p}\")"
   ]
  },
  {
   "attachments": {},
   "cell_type": "markdown",
   "metadata": {},
   "source": [
    "null hypothesis: there is no relationship between the two columns\n",
    "\n",
    "If p-value is less than the significance level (usually 0.05), we can reject the null hypothesis and conclude that there is a significant relationship between the two columns.\n",
    "\n",
    "Here p-value >0.05, so there isnt a significant relationship between the two columns."
   ]
  },
  {
   "cell_type": "code",
   "execution_count": 23,
   "metadata": {},
   "outputs": [
    {
     "name": "stdout",
     "output_type": "stream",
     "text": [
      "Chi-square statistic: 10.151455316978176\n",
      "P-value: 0.8101063068808684\n"
     ]
    }
   ],
   "source": [
    "# create a contingency table of the two columns\n",
    "contingency_table = pd.crosstab(df['Discount Band'], df['Product'])\n",
    "\n",
    "# perform chi-square test of independence\n",
    "chi2, p, dof, expected = chi2_contingency(contingency_table)\n",
    "\n",
    "# print results\n",
    "print(f\"Chi-square statistic: {chi2}\")\n",
    "print(f\"P-value: {p}\")"
   ]
  },
  {
   "attachments": {},
   "cell_type": "markdown",
   "metadata": {},
   "source": [
    "Here p-value >0.05, so there isnt a significant relationship between the two columns."
   ]
  },
  {
   "cell_type": "code",
   "execution_count": 24,
   "metadata": {},
   "outputs": [
    {
     "name": "stdout",
     "output_type": "stream",
     "text": [
      "Chi-square statistic: 26.824628544697156\n",
      "P-value: 0.008189011871812245\n"
     ]
    }
   ],
   "source": [
    "# create a contingency table of the two columns\n",
    "contingency_table = pd.crosstab(df['Segment'], df['Discount Band'])\n",
    "\n",
    "# perform chi-square test of independence\n",
    "chi2, p, dof, expected = chi2_contingency(contingency_table)\n",
    "\n",
    "# print results\n",
    "print(f\"Chi-square statistic: {chi2}\")\n",
    "print(f\"P-value: {p}\")"
   ]
  },
  {
   "attachments": {},
   "cell_type": "markdown",
   "metadata": {},
   "source": [
    "p-value is less than the significance level (0.05), we can reject the null hypothesis and conclude that there is a significant relationship between the two columns."
   ]
  },
  {
   "attachments": {},
   "cell_type": "markdown",
   "metadata": {},
   "source": [
    "Global recoding"
   ]
  },
  {
   "cell_type": "code",
   "execution_count": 25,
   "metadata": {},
   "outputs": [
    {
     "name": "stdout",
     "output_type": "stream",
     "text": [
      "      Segment  Country    Product  Discount Band  Units Sold  \\\n",
      "0  Government   Canada  Carretera              0      1618.5   \n",
      "1  Government  Germany  Carretera              0      1321.0   \n",
      "2   Midmarket   France  Carretera              0      2178.0   \n",
      "3   Midmarket  Germany  Carretera              0       888.0   \n",
      "4   Midmarket   Mexico  Carretera              0      2470.0   \n",
      "\n",
      "   Manufacturing Price  Sale Price  Gross Sales  Discounts    Sales     COGS  \\\n",
      "0                    3          20      32370.0        0.0  32370.0  16185.0   \n",
      "1                    3          20      26420.0        0.0  26420.0  13210.0   \n",
      "2                    3          15      32670.0        0.0  32670.0  21780.0   \n",
      "3                    3          15      13320.0        0.0  13320.0   8880.0   \n",
      "4                    3          15      37050.0        0.0  37050.0  24700.0   \n",
      "\n",
      "    Profit       Date  Month Number Month Name  Year  \n",
      "0  16185.0 2014-01-01             1    January  2014  \n",
      "1  13210.0 2014-01-01             1    January  2014  \n",
      "2  10890.0 2014-06-01             6       June  2014  \n",
      "3   4440.0 2014-06-01             6       June  2014  \n",
      "4  12350.0 2014-06-01             6       June  2014  \n"
     ]
    }
   ],
   "source": [
    "# Define the mapping\n",
    "mapping = {'None': 0, 'Low': 1, 'Medium': 2, 'High': 3}\n",
    "\n",
    "# Apply the global recoding\n",
    "df['Discount Band'] = df['Discount Band'].replace(mapping)\n",
    "\n",
    "print(df.head())"
   ]
  },
  {
   "cell_type": "code",
   "execution_count": 26,
   "metadata": {},
   "outputs": [
    {
     "name": "stdout",
     "output_type": "stream",
     "text": [
      "Chi-square statistic: 26.824628544697156\n",
      "P-value: 0.008189011871812245\n"
     ]
    }
   ],
   "source": [
    "# create a contingency table of the two columns\n",
    "contingency_table = pd.crosstab(df['Segment'], df['Discount Band'])\n",
    "\n",
    "# perform chi-square test of independence\n",
    "chi2, p, dof, expected = chi2_contingency(contingency_table)\n",
    "\n",
    "# print results\n",
    "print(f\"Chi-square statistic: {chi2}\")\n",
    "print(f\"P-value: {p}\")"
   ]
  },
  {
   "attachments": {},
   "cell_type": "markdown",
   "metadata": {},
   "source": [
    "p-value is still less than the significance level (0.05), we can reject the null hypothesis and conclude that there is a significant relationship between the two columns."
   ]
  },
  {
   "attachments": {},
   "cell_type": "markdown",
   "metadata": {},
   "source": [
    "point-biserial correlation coefficient"
   ]
  },
  {
   "cell_type": "code",
   "execution_count": 27,
   "metadata": {},
   "outputs": [
    {
     "name": "stdout",
     "output_type": "stream",
     "text": [
      "Point-Biserial Correlation Coefficient:  0.3123233445221987\n",
      "P-value:  2.6488828108508997e-17\n"
     ]
    }
   ],
   "source": [
    "from scipy import stats\n",
    "\n",
    "# Calculate the point-biserial correlation coefficient between 'Gender' and 'Gross Sales'\n",
    "r, p_value = stats.pointbiserialr(df['Discount Band'], df['Discounts'])\n",
    "\n",
    "# Print the result\n",
    "print(\"Point-Biserial Correlation Coefficient: \", r)\n",
    "print(\"P-value: \", p_value)"
   ]
  },
  {
   "attachments": {},
   "cell_type": "markdown",
   "metadata": {},
   "source": [
    "null hypothesis of no correlation can be rejected."
   ]
  },
  {
   "attachments": {},
   "cell_type": "markdown",
   "metadata": {},
   "source": [
    "top and bottom coding"
   ]
  },
  {
   "cell_type": "code",
   "execution_count": 28,
   "metadata": {},
   "outputs": [],
   "source": [
    "# read by default 1st sheet of an excel file\n",
    "df = pd.read_excel('C:\\\\Users\\\\ashna\\\\Downloads\\\\Financial Sample.xlsx')"
   ]
  },
  {
   "cell_type": "code",
   "execution_count": 29,
   "metadata": {},
   "outputs": [
    {
     "name": "stdout",
     "output_type": "stream",
     "text": [
      "      Segment  Country    Product Discount Band  Units Sold  \\\n",
      "0  Government   Canada  Carretera           Low      1618.5   \n",
      "1  Government  Germany  Carretera           Low      1321.0   \n",
      "2   Midmarket   France  Carretera           Low      2178.0   \n",
      "3   Midmarket  Germany  Carretera           Low       888.0   \n",
      "4   Midmarket   Mexico  Carretera           Low      2470.0   \n",
      "\n",
      "   Manufacturing Price  Sale Price  Gross Sales  Discounts    Sales     COGS  \\\n",
      "0                    3          20      32370.0        0.0  32370.0  16185.0   \n",
      "1                    3          20      26420.0        0.0  26420.0  13210.0   \n",
      "2                    3          15      32670.0        0.0  32670.0  21780.0   \n",
      "3                    3          15      13320.0        0.0  13320.0   8880.0   \n",
      "4                    3          15      37050.0        0.0  37050.0  24700.0   \n",
      "\n",
      "    Profit       Date  Month Number Month Name  Year  \n",
      "0  16185.0 2014-01-01             1    January  2014  \n",
      "1  13210.0 2014-01-01             1    January  2014  \n",
      "2  10890.0 2014-06-01             6       June  2014  \n",
      "3   4440.0 2014-06-01             6       June  2014  \n",
      "4  12350.0 2014-06-01             6       June  2014  \n"
     ]
    }
   ],
   "source": [
    "# Define the top and bottom coding values\n",
    "top_coding_value = 'Medium'\n",
    "bottom_coding_value = 'Low'\n",
    "\n",
    "# Apply top and bottom coding to the Discount Band column\n",
    "df.loc[df['Discount Band'] == 'None', 'Discount Band'] = bottom_coding_value\n",
    "df.loc[df['Discount Band'] == 'Low', 'Discount Band'] = bottom_coding_value\n",
    "df.loc[df['Discount Band'] == 'Medium', 'Discount Band'] = top_coding_value\n",
    "\n",
    "# Print the updated dataset\n",
    "print(df.head())"
   ]
  },
  {
   "cell_type": "code",
   "execution_count": 30,
   "metadata": {},
   "outputs": [
    {
     "name": "stdout",
     "output_type": "stream",
     "text": [
      "Chi-square statistic: 16.545725777992107\n",
      "P-value: 0.035202772359402675\n"
     ]
    }
   ],
   "source": [
    "# create a contingency table of the two columns\n",
    "contingency_table = pd.crosstab(df['Segment'], df['Discount Band'])\n",
    "\n",
    "# perform chi-square test of independence\n",
    "chi2, p, dof, expected = chi2_contingency(contingency_table)\n",
    "\n",
    "# print results\n",
    "print(f\"Chi-square statistic: {chi2}\")\n",
    "print(f\"P-value: {p}\")"
   ]
  },
  {
   "attachments": {},
   "cell_type": "markdown",
   "metadata": {},
   "source": [
    "p-value is no longer less than the significance level (0.05), there is no significant relationship between the two columns."
   ]
  }
 ],
 "metadata": {
  "kernelspec": {
   "display_name": "Python 3",
   "language": "python",
   "name": "python3"
  },
  "language_info": {
   "codemirror_mode": {
    "name": "ipython",
    "version": 3
   },
   "file_extension": ".py",
   "mimetype": "text/x-python",
   "name": "python",
   "nbconvert_exporter": "python",
   "pygments_lexer": "ipython3",
   "version": "3.11.2"
  },
  "orig_nbformat": 4
 },
 "nbformat": 4,
 "nbformat_minor": 2
}
