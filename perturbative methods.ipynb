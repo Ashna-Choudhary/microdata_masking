{
 "cells": [
  {
   "cell_type": "code",
   "execution_count": 111,
   "metadata": {},
   "outputs": [
    {
     "name": "stdout",
     "output_type": "stream",
     "text": [
      "      Segment  Country    Product Discount Band  Units Sold  \\\n",
      "0  Government   Canada  Carretera          None      1618.5   \n",
      "1  Government  Germany  Carretera          None      1321.0   \n",
      "2   Midmarket   France  Carretera          None      2178.0   \n",
      "3   Midmarket  Germany  Carretera          None       888.0   \n",
      "4   Midmarket   Mexico  Carretera          None      2470.0   \n",
      "\n",
      "   Manufacturing Price  Sale Price  Gross Sales  Discounts    Sales     COGS  \\\n",
      "0                    3          20      32370.0        0.0  32370.0  16185.0   \n",
      "1                    3          20      26420.0        0.0  26420.0  13210.0   \n",
      "2                    3          15      32670.0        0.0  32670.0  21780.0   \n",
      "3                    3          15      13320.0        0.0  13320.0   8880.0   \n",
      "4                    3          15      37050.0        0.0  37050.0  24700.0   \n",
      "\n",
      "    Profit       Date  Month Number Month Name  Year  \n",
      "0  16185.0 2014-01-01             1    January  2014  \n",
      "1  13210.0 2014-01-01             1    January  2014  \n",
      "2  10890.0 2014-06-01             6       June  2014  \n",
      "3   4440.0 2014-06-01             6       June  2014  \n",
      "4  12350.0 2014-06-01             6       June  2014  \n"
     ]
    }
   ],
   "source": [
    "import pandas as pd\n",
    " \n",
    "# read by default 1st sheet of an excel file\n",
    "df = pd.read_excel('C:\\\\Users\\\\ashna\\\\Downloads\\\\Financial Sample.xlsx')\n",
    " \n",
    "print(df.head())"
   ]
  },
  {
   "attachments": {},
   "cell_type": "markdown",
   "metadata": {},
   "source": [
    "Pearson Correlation"
   ]
  },
  {
   "cell_type": "code",
   "execution_count": 112,
   "metadata": {},
   "outputs": [
    {
     "name": "stdout",
     "output_type": "stream",
     "text": [
      "0.38308688456303785\n"
     ]
    }
   ],
   "source": [
    "# Calculate the correlation between the two columns\n",
    "corr = df['Discounts'].corr(df['Profit'])\n",
    "\n",
    "print(corr)"
   ]
  },
  {
   "cell_type": "code",
   "execution_count": 113,
   "metadata": {},
   "outputs": [
    {
     "name": "stdout",
     "output_type": "stream",
     "text": [
      "0.6504946568987757\n"
     ]
    }
   ],
   "source": [
    "# Calculate the correlation between the two columns\n",
    "corr = df['Sale Price'].corr(df['Profit'])\n",
    "\n",
    "print(corr)"
   ]
  },
  {
   "cell_type": "code",
   "execution_count": 114,
   "metadata": {},
   "outputs": [
    {
     "name": "stdout",
     "output_type": "stream",
     "text": [
      "0.7845084855154831\n"
     ]
    }
   ],
   "source": [
    "# Calculate the correlation between the two columns\n",
    "corr = df['Gross Sales'].corr(df['Profit'])\n",
    "\n",
    "print(corr)"
   ]
  },
  {
   "attachments": {},
   "cell_type": "markdown",
   "metadata": {},
   "source": [
    "The value of correlation coefficient ranges from -1 to +1. A value of +1 indicates a perfect positive correlation, a value of -1 indicates a perfect negative correlation, and a value of 0 indicates no correlation."
   ]
  },
  {
   "attachments": {},
   "cell_type": "markdown",
   "metadata": {},
   "source": [
    "Spearman Correlation: This method is used to measure the strength and direction of the monotonic relationship between two variables. The value of the correlation coefficient ranges from -1 to +1, with a value of +1 indicating a perfect positive correlation, a value of -1 indicating a perfect negative correlation, and a value of 0 indicating no correlation."
   ]
  },
  {
   "cell_type": "code",
   "execution_count": 115,
   "metadata": {},
   "outputs": [
    {
     "name": "stdout",
     "output_type": "stream",
     "text": [
      "Spearman correlation: 0.575534265636979\n",
      "p-value: 5.46943962882347e-63\n"
     ]
    }
   ],
   "source": [
    "from scipy.stats import spearmanr\n",
    "# calculate the Spearman correlation\n",
    "corr, pval = spearmanr(df['Gross Sales'], df['Profit'])\n",
    "\n",
    "print('Spearman correlation:', corr)\n",
    "print('p-value:', pval)"
   ]
  },
  {
   "attachments": {},
   "cell_type": "markdown",
   "metadata": {},
   "source": [
    "PERTURBATIVE METHODS"
   ]
  },
  {
   "attachments": {},
   "cell_type": "markdown",
   "metadata": {},
   "source": [
    "Noise Addition"
   ]
  },
  {
   "attachments": {},
   "cell_type": "markdown",
   "metadata": {},
   "source": [
    "Masking by uncorrelated noise addition"
   ]
  },
  {
   "cell_type": "code",
   "execution_count": 116,
   "metadata": {},
   "outputs": [],
   "source": [
    "import numpy as np\n",
    "# Add uncorrelated noise to a column in a Pandas dataframe\n",
    "noise = np.random.normal(loc=0, scale=1000, size=len(df))\n",
    "df['gross_sales_with_uncorr_noise'] = df['Gross Sales'] + noise"
   ]
  },
  {
   "cell_type": "code",
   "execution_count": 117,
   "metadata": {},
   "outputs": [
    {
     "name": "stdout",
     "output_type": "stream",
     "text": [
      "0.7844280537391058\n"
     ]
    }
   ],
   "source": [
    "# Calculate the pearson correlation between the two columns\n",
    "corr = df['gross_sales_with_uncorr_noise'].corr(df['Profit'])\n",
    "\n",
    "print(corr)"
   ]
  },
  {
   "cell_type": "code",
   "execution_count": 118,
   "metadata": {},
   "outputs": [
    {
     "name": "stdout",
     "output_type": "stream",
     "text": [
      "Spearman correlation: 0.574795657535509\n",
      "p-value: 8.529780424217914e-63\n"
     ]
    }
   ],
   "source": [
    "# calculate the Spearman correlation\n",
    "corr, pval = spearmanr(df['gross_sales_with_uncorr_noise'], df['Profit'])\n",
    "\n",
    "print('Spearman correlation:', corr)\n",
    "print('p-value:', pval)"
   ]
  },
  {
   "cell_type": "code",
   "execution_count": 119,
   "metadata": {},
   "outputs": [
    {
     "name": "stdout",
     "output_type": "stream",
     "text": [
      "0.9999919045389112\n"
     ]
    }
   ],
   "source": [
    "# Calculate the pearson correlation between the two columns\n",
    "corr = df['gross_sales_with_uncorr_noise'].corr(df['Gross Sales'])\n",
    "\n",
    "print(corr)"
   ]
  },
  {
   "attachments": {},
   "cell_type": "markdown",
   "metadata": {},
   "source": [
    "Masking by correlated noise"
   ]
  },
  {
   "cell_type": "code",
   "execution_count": 120,
   "metadata": {},
   "outputs": [
    {
     "name": "stdout",
     "output_type": "stream",
     "text": [
      "      Segment  Country    Product Discount Band  Units Sold  \\\n",
      "0  Government   Canada  Carretera          None      1618.5   \n",
      "1  Government  Germany  Carretera          None      1321.0   \n",
      "2   Midmarket   France  Carretera          None      2178.0   \n",
      "3   Midmarket  Germany  Carretera          None       888.0   \n",
      "4   Midmarket   Mexico  Carretera          None      2470.0   \n",
      "\n",
      "   Manufacturing Price  Sale Price  Gross Sales  Discounts    Sales     COGS  \\\n",
      "0                    3          20      32370.0        0.0  32370.0  16185.0   \n",
      "1                    3          20      26420.0        0.0  26420.0  13210.0   \n",
      "2                    3          15      32670.0        0.0  32670.0  21780.0   \n",
      "3                    3          15      13320.0        0.0  13320.0   8880.0   \n",
      "4                    3          15      37050.0        0.0  37050.0  24700.0   \n",
      "\n",
      "    Profit       Date  Month Number Month Name  Year  \\\n",
      "0  16185.0 2014-01-01             1    January  2014   \n",
      "1  13210.0 2014-01-01             1    January  2014   \n",
      "2  10890.0 2014-06-01             6       June  2014   \n",
      "3   4440.0 2014-06-01             6       June  2014   \n",
      "4  12350.0 2014-06-01             6       June  2014   \n",
      "\n",
      "   gross_sales_with_uncorr_noise  corr Noisy Sales  \n",
      "0                   34708.769126      32370.020360  \n",
      "1                   25850.043680      26420.254818  \n",
      "2                   31898.531848      32670.095306  \n",
      "3                   13217.127947      13320.557798  \n",
      "4                   37962.209634      37049.818853  \n"
     ]
    }
   ],
   "source": [
    "# Calculate the correlation between Gross Sales and a noise column\n",
    "noise = np.random.normal(0, 1, size=len(df))\n",
    "correlation = np.corrcoef(df['Gross Sales'], noise)[0, 1]\n",
    "\n",
    "# Add correlated noise to the Gross Sales column\n",
    "noise_factor = 0.2  # Adjust this to control the amount of noise added\n",
    "noisy_sales = df['Gross Sales'] + (noise_factor * noise)\n",
    "df['corr Noisy Sales'] = noisy_sales\n",
    "\n",
    "# Print the DataFrame with the noisy sales\n",
    "print(df.head())"
   ]
  },
  {
   "cell_type": "code",
   "execution_count": 121,
   "metadata": {},
   "outputs": [
    {
     "name": "stdout",
     "output_type": "stream",
     "text": [
      "0.7845085056796254\n"
     ]
    }
   ],
   "source": [
    "# Calculate the pearson correlation between the two columns\n",
    "corr = df['corr Noisy Sales'].corr(df['Profit'])\n",
    "\n",
    "print(corr)"
   ]
  },
  {
   "cell_type": "code",
   "execution_count": 122,
   "metadata": {},
   "outputs": [
    {
     "name": "stdout",
     "output_type": "stream",
     "text": [
      "0.999999999999639\n"
     ]
    }
   ],
   "source": [
    "# Calculate the pearson correlation between the two columns\n",
    "corr = df['corr Noisy Sales'].corr(df['Gross Sales'])\n",
    "\n",
    "print(corr)"
   ]
  },
  {
   "cell_type": "code",
   "execution_count": 123,
   "metadata": {},
   "outputs": [
    {
     "name": "stdout",
     "output_type": "stream",
     "text": [
      "Mean of column Gross Sales: 182759.42642857143\n",
      "Variance of column Gross Sales: 64649309257.293205\n",
      "Mean of column Gross Sales: 182759.43291613637\n",
      "Variance of column Gross Sales: 64649312110.853806\n"
     ]
    }
   ],
   "source": [
    "# calculate the mean and variance of column 'Gross Sales'\n",
    "mean_GrossSales = df['Gross Sales'].mean()\n",
    "var_GrossSales = df['Gross Sales'].var()\n",
    "\n",
    "# print the results\n",
    "print(\"Mean of column Gross Sales:\", mean_GrossSales)\n",
    "print(\"Variance of column Gross Sales:\", var_GrossSales)\n",
    "\n",
    "# calculate the mean and variance of column 'corr Noisy Sales'\n",
    "mean_corrnoisSales = df['corr Noisy Sales'].mean()\n",
    "var_corrnoisSales = df['corr Noisy Sales'].var()\n",
    "\n",
    "# print the results\n",
    "print(\"Mean of column Gross Sales:\", mean_corrnoisSales)\n",
    "print(\"Variance of column Gross Sales:\", var_corrnoisSales)"
   ]
  },
  {
   "attachments": {},
   "cell_type": "markdown",
   "metadata": {},
   "source": [
    "apply masking by noise addition and linear transformation"
   ]
  },
  {
   "attachments": {},
   "cell_type": "markdown",
   "metadata": {},
   "source": [
    "Apply masking by noise addition to the column by adding some random noise to the values. For example, we can add a random number between 0 and 100 to each value:"
   ]
  },
  {
   "cell_type": "code",
   "execution_count": 124,
   "metadata": {},
   "outputs": [],
   "source": [
    "import numpy as np\n",
    "\n",
    "noise = np.random.rand(len(df)) * 100\n",
    "df['Gross Sales Masked'] = df['Gross Sales'] + noise"
   ]
  },
  {
   "attachments": {},
   "cell_type": "markdown",
   "metadata": {},
   "source": [
    "Apply a linear transformation to the masked values. For example, we can multiply each value by 1.5 and add 1000."
   ]
  },
  {
   "cell_type": "code",
   "execution_count": 125,
   "metadata": {},
   "outputs": [],
   "source": [
    "df['Gross Sales Transformed'] = df['Gross Sales Masked'] * 1.5 + 1000"
   ]
  },
  {
   "cell_type": "code",
   "execution_count": 126,
   "metadata": {},
   "outputs": [],
   "source": [
    "def pearsoncorr(col1, col2):\n",
    "    # Calculate the pearson correlation between the two columns\n",
    "    corr = df[str(col1)].corr(df[str(col2)])\n",
    "\n",
    "    print(corr)\n"
   ]
  },
  {
   "cell_type": "code",
   "execution_count": 127,
   "metadata": {},
   "outputs": [
    {
     "name": "stdout",
     "output_type": "stream",
     "text": [
      "0.7845080830468666\n",
      "None\n"
     ]
    }
   ],
   "source": [
    "print(pearsoncorr('Gross Sales Transformed','Profit'))"
   ]
  },
  {
   "cell_type": "code",
   "execution_count": 128,
   "metadata": {},
   "outputs": [
    {
     "name": "stdout",
     "output_type": "stream",
     "text": [
      "0.999999993439964\n",
      "None\n"
     ]
    }
   ],
   "source": [
    "print(pearsoncorr('Gross Sales Transformed','Gross Sales'))"
   ]
  },
  {
   "attachments": {},
   "cell_type": "markdown",
   "metadata": {},
   "source": [
    "masking by noise addition and non linear transformation"
   ]
  },
  {
   "cell_type": "code",
   "execution_count": 129,
   "metadata": {},
   "outputs": [],
   "source": [
    "import numpy as np\n",
    "import pandas as pd\n",
    "\n",
    "#Define the masking function that adds noise to the data\n",
    "def masking_function(x):\n",
    "    return x + np.random.normal(loc=0, scale=1000)\n",
    "\n",
    "#Apply the masking function to the \"Gross Sales\" column using the apply method\n",
    "df['tr Gross Sales'] = df['Gross Sales'].apply(masking_function)\n",
    "\n",
    "#Define a non-linear transformation function\n",
    "def transform_function(x):\n",
    "    return np.log(x+1)\n",
    "\n",
    "#Apply the non-linear transformation function to the \"Gross Sales\" column using the apply method\n",
    "df['tr Gross Sales'] = df['tr Gross Sales'].apply(transform_function)\n"
   ]
  },
  {
   "cell_type": "code",
   "execution_count": 130,
   "metadata": {},
   "outputs": [
    {
     "name": "stdout",
     "output_type": "stream",
     "text": [
      "0.5776767892265796\n",
      "None\n"
     ]
    }
   ],
   "source": [
    "print(pearsoncorr('tr Gross Sales','Profit'))"
   ]
  },
  {
   "cell_type": "code",
   "execution_count": 131,
   "metadata": {},
   "outputs": [
    {
     "name": "stdout",
     "output_type": "stream",
     "text": [
      "0.8387620248786383\n",
      "None\n"
     ]
    }
   ],
   "source": [
    "print(pearsoncorr('tr Gross Sales','Gross Sales'))"
   ]
  }
 ],
 "metadata": {
  "kernelspec": {
   "display_name": "Python 3",
   "language": "python",
   "name": "python3"
  },
  "language_info": {
   "codemirror_mode": {
    "name": "ipython",
    "version": 3
   },
   "file_extension": ".py",
   "mimetype": "text/x-python",
   "name": "python",
   "nbconvert_exporter": "python",
   "pygments_lexer": "ipython3",
   "version": "3.11.2"
  },
  "orig_nbformat": 4
 },
 "nbformat": 4,
 "nbformat_minor": 2
}
